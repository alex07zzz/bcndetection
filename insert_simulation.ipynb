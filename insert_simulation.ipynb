{
 "cells": [
  {
   "cell_type": "markdown",
   "metadata": {},
   "source": [
    "# Evaluation on Simulated Signals"
   ]
  },
  {
   "cell_type": "code",
   "execution_count": 1,
   "metadata": {},
   "outputs": [],
   "source": [
    "import pandas as pd\n",
    "import numpy as np\n",
    "import matplotlib.pyplot as plt\n",
    "import seaborn as sns\n",
    "import os\n",
    "import warnings\n",
    "import multiprocessing\n",
    "import time\n",
    "import math\n",
    "\n",
    "from IPython.display import clear_output\n",
    "warnings.filterwarnings('ignore')"
   ]
  },
  {
   "cell_type": "code",
   "execution_count": 2,
   "metadata": {},
   "outputs": [],
   "source": [
    "from src.sigsimulation import *\n",
    "from src.robustper import robustper_wrap, mltproc_robustper_wrap\n",
    "from src.baywatch import baywatch_wrap, mltproc_baywatch_wrap\n",
    "from src.statsbased import stats_wrap, mltproc_stats_wrap\n",
    "from src.upnsca import upnsca_wrap, mltproc_upnsca_wrap\n",
    "from src.bcndetection import bcndetection_wrap, mltproc_bcndetection_wrap"
   ]
  },
  {
   "cell_type": "markdown",
   "metadata": {},
   "source": [
    "### Signal Visualization"
   ]
  },
  {
   "cell_type": "code",
   "execution_count": 3,
   "metadata": {},
   "outputs": [
    {
     "data": {
      "text/plain": [
       "[<matplotlib.lines.Line2D at 0x7f3ea31ecf10>]"
      ]
     },
     "execution_count": 3,
     "metadata": {},
     "output_type": "execute_result"
    },
    {
     "data": {
      "image/png": "[encoded data removed]",
      "text/plain": [
       "<Figure size 576x144 with 1 Axes>"
      ]
     },
     "metadata": {
      "needs_background": "light"
     },
     "output_type": "display_data"
    }
   ],
   "source": [
    "sig = add_poisson_insert(60*60, prate=0.2)\n",
    "resig = resample_sig(sig)\n",
    "fig = plt.figure(figsize=(8,2))\n",
    "plt.plot(resig)"
   ]
  },
  {
   "cell_type": "markdown",
   "metadata": {},
   "source": [
    "## Insertion Noise Simulation"
   ]
  },
  {
   "cell_type": "code",
   "execution_count": 4,
   "metadata": {},
   "outputs": [],
   "source": [
    "perl = [10]\n",
    "std = 0.\n",
    "instl = [i for i in range(0, 22, 2)]\n",
    "cnt = 100\n",
    "\n",
    "datarootdir = \"data/poisson\"\n",
    "datafilefmt = \"per_{}_inst_{}.parquet\"\n",
    "\n",
    "# load pregenerated signal, set to True to regenerate simulated signals\n",
    "regenerate = False"
   ]
  },
  {
   "cell_type": "markdown",
   "metadata": {},
   "source": [
    "#### Multiprocessing to reduce the computation time\n",
    "- set multiproc=False to disable multiprocessing"
   ]
  },
  {
   "cell_type": "code",
   "execution_count": 5,
   "metadata": {},
   "outputs": [],
   "source": [
    "multiproc = True\n",
    "processors = 16"
   ]
  },
  {
   "cell_type": "markdown",
   "metadata": {},
   "source": [
    "#### Algorithm Evaluation\n",
    "- Run the following blocks to regenerate results for STATS-based, UPNSCA, BAYWATCH and our Proposed methods.\n",
    "- The unofficial implementation of Robust period is very slow. It usually take 2 minutes to process one time seires, as a result, it would take hours to complete the Gaussian noise evaluation section. Therefore, we read the robustperiod results from our previous evaluation here for convenience purporse.\n",
    "- We provide a demo and the whole re-runing code at the end of this notebook, in case you want to re-run the robustPeriod results."
   ]
  },
  {
   "cell_type": "code",
   "execution_count": 6,
   "metadata": {},
   "outputs": [],
   "source": [
    "def get_acc(res, totalcnt):\n",
    "    return res.loc[res[\"detected\"]==True].shape[0]/totalcnt"
   ]
  },
  {
   "cell_type": "code",
   "execution_count": 7,
   "metadata": {},
   "outputs": [
    {
     "name": "stdout",
     "output_type": "stream",
     "text": [
      "insertion range: 20 %\n",
      "data/poisson/per_010_inst_020.parquet\n",
      "Loading data...\n",
      "Processing STATSBASED detection...\n",
      "Processing UPNSCA detection...\n",
      "Processing BAYWATCH detection...\n",
      "Processing Our Proposed detection...\n",
      "Getting Stats...\n",
      "PERIODS:10, STD: 0.0, INST: 0.2 \n",
      "STATS: 0.0\n",
      "UPNSCA: 0.0\n",
      "BAYWATCH: 1.0\n",
      "OUR Proposed: 1.0\n",
      "\n"
     ]
    }
   ],
   "source": [
    "# result dataframe\n",
    "statsdf = pd.DataFrame(columns=[\"per\", \"std\", \"inst\", \"acc\", \"method\"]) \n",
    "\n",
    "\n",
    "for per_m in perl:\n",
    "    per = per_m * 60 # minute to seconds\n",
    "    print(\"Generating Signals of Periodicity: {} minutes\".format(per_m))\n",
    "    \n",
    "    for value in instl:\n",
    "        inst = float(value)/100\n",
    "        print(\"insertion range: {} %\".format(value))\n",
    "        datafpath = os.path.join(datarootdir, datafilefmt.format(\"{0:03d}\".format(per_m), \"{0:03d}\".format(int(value))))\n",
    "        print(datafpath)\n",
    "        \n",
    "        # Load or generate simulated signals\n",
    "        if not regenerate and os.path.exists(datafpath):\n",
    "            print(\"Loading data...\")\n",
    "            sigdf = pd.read_parquet(datafpath)\n",
    "        else:\n",
    "            print(\"ReGenerating data...\")\n",
    "            sigdf = gen_poisson_signal_df(per, std, prate=inst, count=cnt)\n",
    "            print(\"Saving data...\")\n",
    "            sigdf.to_parquet(datafpath, index=False)\n",
    "\n",
    "        if multiproc: \n",
    "            \n",
    "            # STATBASED\n",
    "            print(\"Processing STATSBASED detection...\")\n",
    "            stats_resdf = mltproc_stats_wrap(sigdf, maxproc=processors)\n",
    "            \n",
    "            # UPNSCA\n",
    "            print(\"Processing UPNSCA detection...\")\n",
    "            upnsca_resdf = mltproc_upnsca_wrap(sigdf, maxproc=processors)\n",
    "            \n",
    "            # BAYWATCH\n",
    "            print(\"Processing BAYWATCH detection...\")\n",
    "            baywatch_resdf = mltproc_baywatch_wrap(sigdf, maxproc=processors)\n",
    "        \n",
    "            # Our Proposed\n",
    "            print(\"Processing Our Proposed detection...\")\n",
    "            bcndetection_resdf = mltproc_bcndetection_wrap(sigdf, maxproc=processors)\n",
    "        else:\n",
    "            \n",
    "            # STATBASED\n",
    "            print(\"Processing STATSBASED detection...\")\n",
    "            stats_resdf = stats_wrap(sigdf)\n",
    "            \n",
    "            # UPNSCA\n",
    "            print(\"Processing UPNSCA detection...\")\n",
    "            upnsca_resdf = upnsca_wrap(sigdf)\n",
    "            \n",
    "            # BAYWATCH\n",
    "            print(\"Processing BAYWATCH detection...\")\n",
    "            baywatch_resdf = baywatch_wrap(sigdf)\n",
    "        \n",
    "            # Our Proposed\n",
    "            print(\"Processing Our Proposed detection...\")\n",
    "            bcndetection_resdf = bcndetection_wrap(sigdf)\n",
    "        \n",
    "        print(\"Getting Stats...\")\n",
    "        stats_acc = get_acc(stats_resdf, totalcnt=cnt)\n",
    "        upnsca_acc = get_acc(upnsca_resdf, totalcnt=cnt)\n",
    "        baywatch_acc = get_acc(baywatch_resdf, totalcnt=cnt)\n",
    "        bcndetection_acc = get_acc(bcndetection_resdf, totalcnt=cnt)\n",
    "        \n",
    "        print(\"PERIODS:{}, STD: {}, INST: {} \\nSTATS: {}\\nUPNSCA: {}\\nBAYWATCH: {}\\nOUR Proposed: {}\\n\".format(per_m, std, inst, stats_acc, upnsca_acc, baywatch_acc, bcndetection_acc))\n",
    "        \n",
    "        ## update statatistic dataframe for plotting.\n",
    "        statsdf = statsdf.append({\"per\": per, \"std\": std, \"inst\": value, \"acc\": stats_acc, \"method\": \"STATS-BASED\"}, ignore_index=True)\n",
    "        statsdf = statsdf.append({\"per\": per, \"std\": std, \"inst\": value, \"acc\": upnsca_acc, \"method\": \"UPNSCA\"}, ignore_index=True)\n",
    "        statsdf = statsdf.append({\"per\": per, \"std\": std, \"inst\": value, \"acc\": baywatch_acc, \"method\": \"BAYWATCH\"}, ignore_index=True)\n",
    "        statsdf = statsdf.append({\"per\": per, \"std\": std, \"inst\": value, \"acc\": bcndetection_acc, \"method\": \"Our Proposed\"}, ignore_index=True)\n",
    "        clear_output(wait=True)"
   ]
  },
  {
   "cell_type": "markdown",
   "metadata": {},
   "source": [
    "#### Save Results"
   ]
  },
  {
   "cell_type": "code",
   "execution_count": 38,
   "metadata": {},
   "outputs": [],
   "source": [
    "#statsdf.to_csv(\"results/inst_evaluation.csv\", index=False)"
   ]
  },
  {
   "cell_type": "markdown",
   "metadata": {},
   "source": [
    "#### Visualization\n",
    "- Note that the plot will be slightly different as the paper, because there are random process in each detection.\n",
    "- We read RobustPeriod results from \"results/gauss_robust.csv\" as the rerunning of RobustPeriod would take hours. (The reruning code for robustPeriod can be found at the end of the notebook.)"
   ]
  },
  {
   "cell_type": "code",
   "execution_count": 39,
   "metadata": {},
   "outputs": [],
   "source": [
    "statsdf = pd.read_csv(\"results/inst_evaluation.csv\")\n",
    "statsdf_robust = pd.read_csv(\"results/inst_robust.csv\")\n",
    "statsdf_all = pd.concat([statsdf, statsdf_robust], ignore_index=True)"
   ]
  },
  {
   "cell_type": "code",
   "execution_count": 40,
   "metadata": {},
   "outputs": [],
   "source": [
    "statsdf_all = pd.concat([statsdf, statsdf_robust], ignore_index=True)"
   ]
  },
  {
   "cell_type": "code",
   "execution_count": 41,
   "metadata": {},
   "outputs": [
    {
     "data": {
      "image/png": "[encoded data removed]",
      "text/plain": [
       "<Figure size 576x288 with 1 Axes>"
      ]
     },
     "metadata": {},
     "output_type": "display_data"
    }
   ],
   "source": [
    "stats_per10 = statsdf_all.loc[statsdf_all[\"per\"]==600]\n",
    "#stats_per60 = statsdf_all.loc[statsdf_all[\"per\"]==3600]\n",
    "\n",
    "fig, ax0 = plt.subplots(nrows=1, ncols=1, sharex=True, figsize=(8, 4))\n",
    "#fig = plt.figure(figsize=(6,4))\n",
    "sns.set_style(\"whitegrid\")\n",
    "plt.rcParams['axes.spines.left'] = True\n",
    "plt.rcParams['axes.spines.right'] = False\n",
    "plt.rcParams['axes.spines.top'] = False\n",
    "plt.rcParams['axes.spines.bottom'] = False\n",
    "\n",
    "sns.set_palette(\"tab10\")\n",
    "\n",
    "ax0 = sns.scatterplot(data=stats_per10, x = \"inst\", y=\"acc\", hue=\"method\", x_jitter=100, y_jitter=100,  linewidth=2, alpha=0.7, s=100, ax=ax0, legend = False)\n",
    "ax0 = sns.lineplot(data=stats_per10, x = \"inst\", y=\"acc\", hue=\"method\", markers=\"acc\", linewidth=2, ax=ax0, legend = True)\n",
    "\n",
    "ax0.set_ylabel(\"Detection Rate\",  fontsize=18)\n",
    "ax0.set_xlabel(\"Insert Noise Ratio (%)\",  fontsize=18)\n",
    "ax0.tick_params(axis='x', labelsize=18)\n",
    "ax0.tick_params(axis='y', labelsize=18)\n",
    "ax0.set_yticks(np.arange(0, 1.2, step=0.2))\n",
    "#ax1 = sns.scatterplot(data=stats_per60, x = \"omt\", y=\"acc\", hue=\"method\", x_jitter=100, y_jitter=100,  linewidth=2, alpha=0.7, s=100, ax=ax1)\n",
    "#ax1 = sns.lineplot(data=stats_per60, x = \"omt\", y=\"acc\", hue=\"method\", markers=\"acc\", linewidth=2, ax=ax1)\n",
    "\n",
    "#ax1.set_ylabel(\"Detection Rate\",  fontsize=18)\n",
    "#ax1.set_xlabel(\"Omitting Probability (%)\",  fontsize=18)\n",
    "#handle, labels = ax0.get_legend_handles_labels()\n",
    "#plt.legend(labels=[labels[0], labels[1], labels[2], labels[4], labels[3]], handles= [handle[0], handle[1], handle[2], handle[4], handle[3]], \n",
    "#           loc='lower center', bbox_to_anchor=(-0.1, 0.98),\n",
    "#          ncol=5, fancybox=False, shadow=False, fontsize=18)\n",
    "\n",
    "plt.xticks(fontsize=18)\n",
    "plt.yticks(fontsize=18)\n",
    "plt.subplots_adjust(0.07, 0.15, 0.98, 0.85)"
   ]
  },
  {
   "cell_type": "markdown",
   "metadata": {},
   "source": [
    "#### RobustPeriods Demo\n",
    "- Run the following blocks to check the computation time for robust periods to process one time series\n",
    "- It usually took 40 seconds for one time series\n"
   ]
  },
  {
   "cell_type": "code",
   "execution_count": 22,
   "metadata": {},
   "outputs": [
    {
     "name": "stdout",
     "output_type": "stream",
     "text": [
      "                                                 tdf  ts_cnt\n",
      "0  [1.0, 0.0, 0.0, 0.0, 0.0, 0.0, 0.0, 0.0, 0.0, ...     144\n",
      "Processing time is: 35.42487168312073 seconds\n"
     ]
    }
   ],
   "source": [
    "demo_sigdf = gen_poisson_signal_df(per, std=0, prate=0., count=1)\n",
    "print(demo_sigdf)\n",
    "\n",
    "start_t = time.time()\n",
    "demo_res = robustper_wrap(demo_sigdf)\n",
    "end_t = time.time()\n",
    "print(\"Processing time is: {} seconds\".format(end_t - start_t))"
   ]
  },
  {
   "cell_type": "markdown",
   "metadata": {},
   "source": [
    "#### RobustPeriods Rerun\n",
    "- Run the following blocks to recompute the whole evaluation session\n",
    "- Note that it usually takes hours to finish. "
   ]
  },
  {
   "cell_type": "code",
   "execution_count": 32,
   "metadata": {},
   "outputs": [
    {
     "name": "stdout",
     "output_type": "stream",
     "text": [
      "Gaussian Noise Level: 20 %\n",
      "data/poisson/per_010_inst_020.parquet\n",
      "Loading data...\n",
      "Processing RobustPeriod detection...\n",
      "Getting Stats...\n",
      "PERIODS:10, STD: 0.0, INST: 0.2 \n",
      "RobustPeriods: 1.0\n",
      "\n"
     ]
    }
   ],
   "source": [
    "stats_robust = pd.DataFrame(columns=[\"per\", \"std\", \"inst\", \"acc\", \"method\"]) \n",
    "regenerate = False\n",
    "for per_m in perl:\n",
    "    per = per_m * 60 # minute to seconds\n",
    "    print(\"Generating Signals of Periodicity: {} minutes\".format(per_m))\n",
    "    \n",
    "    for value in instl:\n",
    "        inst = float(value)/100\n",
    "        print(\"Gaussian Noise Level: {} %\".format(value))\n",
    "        datafpath = os.path.join(datarootdir, datafilefmt.format(\"{0:03d}\".format(per_m), \"{0:03d}\".format(value)))\n",
    "        print(datafpath)\n",
    "        \n",
    "        # Load or generate simulated signals\n",
    "        if not regenerate and os.path.exists(datafpath):\n",
    "            print(\"Loading data...\")\n",
    "            sigdf = pd.read_parquet(datafpath)\n",
    "        else:\n",
    "            print(\"ReGenerating data...\")\n",
    "            sigdf = gen_poisson_signal_df(per, std, prate=inst, count=cnt)\n",
    "            print(\"Saving data...\")\n",
    "            sigdf.to_parquet(datafpath, index=False)\n",
    "\n",
    "        if multiproc: \n",
    "            print(\"Processing RobustPeriod detection...\")\n",
    "            robust_resdf = mltproc_robustper_wrap(sigdf, maxproc=processors)\n",
    "        else:\n",
    "            print(\"Processing RobustPeriod detection...\")\n",
    "            robust_resdf = robustper_wrap(sigdf)\n",
    "        \n",
    "        print(\"Getting Stats...\")\n",
    "        robust_acc = get_acc(robust_resdf, totalcnt=cnt)\n",
    "        \n",
    "        print(\"PERIODS:{}, STD: {}, INST: {} \\nRobustPeriods: {}\\n\".format(per_m, std, inst, robust_acc))\n",
    "        \n",
    "        ## update statatistic dataframe for plotting.\n",
    "        stats_robust = stats_robust.append({\"per\": per, \"std\": std, \"inst\": value, \"acc\": robust_acc, \"method\": \"RobustPeriod\"}, ignore_index=True)\n",
    "        clear_output(wait=True)"
   ]
  },
  {
   "cell_type": "code",
   "execution_count": 34,
   "metadata": {},
   "outputs": [],
   "source": [
    "#stats_robust.to_csv(\"results/inst_robust.csv\", index=False)"
   ]
  },
  {
   "cell_type": "code",
   "execution_count": null,
   "metadata": {},
   "outputs": [],
   "source": []
  }
 ],
 "metadata": {
  "kernelspec": {
   "display_name": "Python 3",
   "language": "python",
   "name": "python3"
  },
  "language_info": {
   "codemirror_mode": {
    "name": "ipython",
    "version": 3
   },
   "file_extension": ".py",
   "mimetype": "text/x-python",
   "name": "python",
   "nbconvert_exporter": "python",
   "pygments_lexer": "ipython3",
   "version": "3.8.3"
  }
 },
 "nbformat": 4,
 "nbformat_minor": 4
}
